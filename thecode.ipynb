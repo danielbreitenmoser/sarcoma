{
 "cells": [
  {
   "cell_type": "code",
   "execution_count": 9,
   "id": "429677db",
   "metadata": {},
   "outputs": [],
   "source": [
    "import pandas as pd\n",
    "import kaplanmeier as km\n",
    "import numpy as np"
   ]
  },
  {
   "cell_type": "code",
   "execution_count": 2,
   "id": "82518d24",
   "metadata": {
    "scrolled": true
   },
   "outputs": [
    {
     "name": "stderr",
     "output_type": "stream",
     "text": [
      "/var/folders/qv/z21x1r6d63x1t_xq50d41088zgw87m/T/ipykernel_6226/197719092.py:4: DtypeWarning: Columns (2,3,4) have mixed types. Specify dtype option on import or set low_memory=False.\n",
      "  cdk = pd.read_csv(\"CDKN2A.csv\", sep=\"\\t\")\n"
     ]
    }
   ],
   "source": [
    "sarc = pd.read_csv(\"sarcoma.csv\")\n",
    "\n",
    "myc = pd.read_csv(\"MYC.csv\", sep=\"\\t\")\n",
    "cdk = pd.read_csv(\"CDKN2A.csv\", sep=\"\\t\")\n",
    "erb = pd.read_csv(\"ERBB2.csv\", sep=\"\\t\")\n",
    "tp = pd.read_csv(\"TP53.csv\", sep=\"\\t\")\n",
    "\n"
   ]
  },
  {
   "cell_type": "code",
   "execution_count": 3,
   "id": "b8edb655",
   "metadata": {},
   "outputs": [],
   "source": [
    "mycl = []\n",
    "cdkl = []\n",
    "erbl = []\n",
    "tpl = []\n",
    "\n",
    "\n",
    "for yd in sarc.loc[:,\"id\"]:\n",
    "    for yyd in myc.loc[:,\"biosample_id\"]:\n",
    "        if yd == yyd:\n",
    "            if yd not in mycl:\n",
    "                mycl.append(yd)\n",
    "    for yyd in cdk.loc[:,\"biosample_id\"]:\n",
    "        if yd == yyd:\n",
    "            if yd not in cdkl:\n",
    "                cdkl.append(yd)\n",
    "    for yyd in erb.loc[:,\"biosample_id\"]:\n",
    "        if yd == yyd:\n",
    "            if yd not in erbl:\n",
    "                erbl.append(yd)\n",
    "    for yyd in tp.loc[:,\"biosample_id\"]:\n",
    "        if yd == yyd:\n",
    "            if yd not in tpl:\n",
    "                tpl.append(yd)"
   ]
  },
  {
   "cell_type": "code",
   "execution_count": 8,
   "id": "6c093fb1",
   "metadata": {},
   "outputs": [],
   "source": [
    "?km.fit"
   ]
  },
  {
   "cell_type": "code",
   "execution_count": null,
   "id": "60ecf327",
   "metadata": {},
   "outputs": [],
   "source": []
  },
  {
   "cell_type": "code",
   "execution_count": null,
   "id": "7ce7641b",
   "metadata": {},
   "outputs": [],
   "source": [
    "results = km.fit(time, event)"
   ]
  }
 ],
 "metadata": {
  "kernelspec": {
   "display_name": "Python 3 (ipykernel)",
   "language": "python",
   "name": "python3"
  },
  "language_info": {
   "codemirror_mode": {
    "name": "ipython",
    "version": 3
   },
   "file_extension": ".py",
   "mimetype": "text/x-python",
   "name": "python",
   "nbconvert_exporter": "python",
   "pygments_lexer": "ipython3",
   "version": "3.8.9"
  }
 },
 "nbformat": 4,
 "nbformat_minor": 5
}
